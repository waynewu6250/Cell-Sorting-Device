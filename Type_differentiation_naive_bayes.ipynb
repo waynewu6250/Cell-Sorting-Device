{
 "cells": [
  {
   "cell_type": "markdown",
   "metadata": {},
   "source": [
    "# An Impedance-based Flow Cytometer Data Analysis:\n",
    "## Type Differentiation\n",
    "* This is the work to use **naive bayes approach** for differentiating particle types from read signals\n",
    "* Data are collected from lock-in amplifier input and feedback output by sensing the differential voltage amplitude due to impedance change.\n",
    "* Reference signals with three different signals are tested and fed into the non-linear model to classify the outcomes."
   ]
  },
  {
   "cell_type": "code",
   "execution_count": null,
   "metadata": {},
   "outputs": [],
   "source": []
  }
 ],
 "metadata": {
  "kernelspec": {
   "display_name": "Python 3",
   "language": "python",
   "name": "python3"
  },
  "language_info": {
   "codemirror_mode": {
    "name": "ipython",
    "version": 3
   },
   "file_extension": ".py",
   "mimetype": "text/x-python",
   "name": "python",
   "nbconvert_exporter": "python",
   "pygments_lexer": "ipython3",
   "version": "3.6.5"
  }
 },
 "nbformat": 4,
 "nbformat_minor": 2
}
