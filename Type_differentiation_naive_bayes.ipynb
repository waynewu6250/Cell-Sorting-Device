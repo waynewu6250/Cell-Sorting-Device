{
 "cells": [
  {
   "cell_type": "markdown",
   "metadata": {},
   "source": [
    "# An Impedance-based Flow Cytometer Data Analysis:\n",
    "## Type Differentiation\n",
    "* This is the work to use **naive bayes approach** for differentiating particle types from read signals\n",
    "* Data are collected from lock-in amplifier input and feedback output by sensing the differential voltage amplitude due to impedance change.\n",
    "* Reference signals with three different signals are tested and fed into the non-linear model to classify the outcomes."
   ]
  },
  {
   "cell_type": "code",
   "execution_count": 1,
   "metadata": {},
   "outputs": [],
   "source": [
    "import numpy as np\n",
    "import pandas as pd\n",
    "%matplotlib inline\n",
    "import matplotlib.pyplot as plt\n",
    "from scipy.stats import norm, multivariate_normal"
   ]
  },
  {
   "cell_type": "code",
   "execution_count": 2,
   "metadata": {},
   "outputs": [
    {
     "data": {
      "text/html": [
       "<div>\n",
       "<style scoped>\n",
       "    .dataframe tbody tr th:only-of-type {\n",
       "        vertical-align: middle;\n",
       "    }\n",
       "\n",
       "    .dataframe tbody tr th {\n",
       "        vertical-align: top;\n",
       "    }\n",
       "\n",
       "    .dataframe thead th {\n",
       "        text-align: right;\n",
       "    }\n",
       "</style>\n",
       "<table border=\"1\" class=\"dataframe\">\n",
       "  <thead>\n",
       "    <tr style=\"text-align: right;\">\n",
       "      <th></th>\n",
       "      <th>bead_type</th>\n",
       "      <th>size</th>\n",
       "      <th>Frequency</th>\n",
       "      <th>Amplitude</th>\n",
       "      <th>Electrode</th>\n",
       "      <th>label</th>\n",
       "    </tr>\n",
       "  </thead>\n",
       "  <tbody>\n",
       "    <tr>\n",
       "      <th>0</th>\n",
       "      <td>Polystyrene</td>\n",
       "      <td>10</td>\n",
       "      <td>20</td>\n",
       "      <td>1.2300</td>\n",
       "      <td>Outin</td>\n",
       "      <td>0</td>\n",
       "    </tr>\n",
       "    <tr>\n",
       "      <th>1</th>\n",
       "      <td>Polystyrene</td>\n",
       "      <td>10</td>\n",
       "      <td>20</td>\n",
       "      <td>1.0825</td>\n",
       "      <td>Outin</td>\n",
       "      <td>0</td>\n",
       "    </tr>\n",
       "    <tr>\n",
       "      <th>2</th>\n",
       "      <td>Polystyrene</td>\n",
       "      <td>10</td>\n",
       "      <td>20</td>\n",
       "      <td>1.2600</td>\n",
       "      <td>Outin</td>\n",
       "      <td>0</td>\n",
       "    </tr>\n",
       "    <tr>\n",
       "      <th>3</th>\n",
       "      <td>Polystyrene</td>\n",
       "      <td>10</td>\n",
       "      <td>20</td>\n",
       "      <td>1.0775</td>\n",
       "      <td>Outin</td>\n",
       "      <td>0</td>\n",
       "    </tr>\n",
       "    <tr>\n",
       "      <th>4</th>\n",
       "      <td>Polystyrene</td>\n",
       "      <td>10</td>\n",
       "      <td>20</td>\n",
       "      <td>1.1775</td>\n",
       "      <td>Outin</td>\n",
       "      <td>0</td>\n",
       "    </tr>\n",
       "  </tbody>\n",
       "</table>\n",
       "</div>"
      ],
      "text/plain": [
       "     bead_type  size  Frequency  Amplitude Electrode  label\n",
       "0  Polystyrene    10         20     1.2300     Outin      0\n",
       "1  Polystyrene    10         20     1.0825     Outin      0\n",
       "2  Polystyrene    10         20     1.2600     Outin      0\n",
       "3  Polystyrene    10         20     1.0775     Outin      0\n",
       "4  Polystyrene    10         20     1.1775     Outin      0"
      ]
     },
     "execution_count": 2,
     "metadata": {},
     "output_type": "execute_result"
    }
   ],
   "source": [
    "alldata = pd.read_csv('type_differentiation.csv', sep=',')\n",
    "alldata[\"label\"] = alldata[\"bead_type\"].factorize()[0]\n",
    "alldata.head()"
   ]
  },
  {
   "cell_type": "code",
   "execution_count": 5,
   "metadata": {},
   "outputs": [],
   "source": [
    "labels = [\"Polystyrene\", \"Silica\", \"Melamine\", \"Fe3O4\"]\n",
    "data_20 = []\n",
    "data_27 = []\n",
    "\n",
    "for i in range(len(labels)):\n",
    "    subdata = alldata.loc[alldata.bead_type == labels[i]]\n",
    "    if labels[i] == \"Polystyrene\":\n",
    "        data_20.append(subdata[(subdata[\"size\"] == 6.0) & (subdata[\"Frequency\"] == 20.0)])\n",
    "        data_27.append(subdata[(subdata[\"size\"] == 6.0) & (subdata[\"Frequency\"] == 27.0)])\n",
    "    else:\n",
    "        data_20.append(subdata[subdata[\"Frequency\"] == 20.0])\n",
    "        data_27.append(subdata[subdata[\"Frequency\"] == 27.0])"
   ]
  },
  {
   "cell_type": "code",
   "execution_count": 6,
   "metadata": {},
   "outputs": [
    {
     "data": {
      "image/png": "[encoded data removed]",
      "text/plain": [
       "<Figure size 432x288 with 1 Axes>"
      ]
     },
     "metadata": {},
     "output_type": "display_data"
    }
   ],
   "source": [
    "array = []\n",
    "array1 = []\n",
    "for i in range(len(labels)):\n",
    "    x = data_20[i][\"Amplitude\"].values\n",
    "    y = data_27[i][\"Amplitude\"].values\n",
    "    plt.scatter(x,y,c='grey')\n",
    "    plt.title(\"6um Bead Differentiation in Out-in Electrode\")\n",
    "    plt.xlabel(\"Diff at 20MHz (uV)\")\n",
    "    plt.ylabel(\"Diff at 27MHz (uV)\")\n",
    "    \n",
    "    data = np.array([list(x), list(y)]).T\n",
    "    array.append(data)\n",
    "    array1.append(data_20[i].label)\n",
    "\n",
    "plt.show()\n",
    "\n",
    "X = array[0]\n",
    "for i in range(1,len(array)):\n",
    "    X = np.concatenate((X,array[i]), axis=0)\n",
    "Y = array1[0]\n",
    "for i in range(1,len(array1)):\n",
    "    Y = np.concatenate((Y,array1[i]), axis=0)\n"
   ]
  },
  {
   "cell_type": "markdown",
   "metadata": {},
   "source": [
    "# Naive-Bayes Generative Modeling\n",
    "\n",
    "Here we will use bivariate guassian for our classification."
   ]
  },
  {
   "cell_type": "code",
   "execution_count": 7,
   "metadata": {},
   "outputs": [],
   "source": [
    "# Random seperate the data\n",
    "np.random.seed(0)\n",
    "perm = np.random.permutation(len(Y))\n",
    "X_train = X[perm[:150],:]\n",
    "X_test = X[perm[150:],:]\n",
    "Y_train = Y[perm[:150]]\n",
    "Y_test = Y[perm[150:]]"
   ]
  },
  {
   "cell_type": "markdown",
   "metadata": {},
   "source": [
    "## Helper function for visualization and fitting\n",
    "1. find_range: Find the bounds for a specific dataset\n",
    "2. fit_guassian: Help to fit a gussian distribution for a specific dataset\n",
    "3. plot_contours: Plot the data with 2-dimensional data  \n",
    "\n",
    "\n",
    "**two_features_plot**: combine all three functions"
   ]
  },
  {
   "cell_type": "code",
   "execution_count": 8,
   "metadata": {},
   "outputs": [],
   "source": [
    "# Find the range within which an array of numbers lie, with a little buffer\n",
    "def find_range(x):\n",
    "    lower = min(x)\n",
    "    upper = max(x)\n",
    "    width = upper - lower\n",
    "    lower = lower - 0.2 * width\n",
    "    upper = upper + 0.2 * width\n",
    "    return lower, upper"
   ]
  },
  {
   "cell_type": "code",
   "execution_count": 9,
   "metadata": {},
   "outputs": [],
   "source": [
    "# Fit a Gaussian to a data set using the selected features\n",
    "def fit_gaussian(x, features):\n",
    "    mu = np.mean(x[:,features], axis=0)\n",
    "    covar = np.cov(x[:,features], rowvar=0, bias=1)\n",
    "    return mu, covar"
   ]
  },
  {
   "cell_type": "markdown",
   "metadata": {},
   "source": [
    "Next we define a routine that plots a few contour lines of a given two-dimensional Gaussian.\n",
    "It takes as input:\n",
    "* `mu`, `cov`: the parameters of the Gaussian\n",
    "* `x1g`, `x2g`: the grid (along the two axes) at which the density is to be computed\n",
    "* `col`: the color of the contour lines"
   ]
  },
  {
   "cell_type": "code",
   "execution_count": 10,
   "metadata": {},
   "outputs": [],
   "source": [
    "def plot_contours(mu, cov, x1g, x2g, col):\n",
    "    rv = multivariate_normal(mean=mu, cov=cov)\n",
    "    z = np.zeros((len(x1g),len(x2g)))\n",
    "    for i in range(0,len(x1g)):\n",
    "        for j in range(0,len(x2g)):\n",
    "            z[j,i] = rv.logpdf([x1g[i], x2g[j]]) \n",
    "    sign, logdet = np.linalg.slogdet(cov)\n",
    "    normalizer = -0.5 * (2 * np.log(6.28) + sign * logdet)\n",
    "    \n",
    "    plt.contour(x1g,x2g,z, levels=[normalizer-1], colors=col, linewidths=2.0, linestyles='solid')"
   ]
  },
  {
   "cell_type": "code",
   "execution_count": 11,
   "metadata": {},
   "outputs": [
    {
     "data": {
      "image/png": "[encoded data removed]",
      "text/plain": [
       "<Figure size 432x288 with 1 Axes>"
      ]
     },
     "metadata": {},
     "output_type": "display_data"
    }
   ],
   "source": [
    "def two_features_plot(f1,f2,label):\n",
    "    if f1 == f2: # we need f1 != f2\n",
    "        print(\"Please choose different features for f1 and f2.\")\n",
    "        return  \n",
    "    \n",
    "    # Set up plot\n",
    "    x1_lower, x1_upper = find_range(X_train[Y_train==label,f1])\n",
    "    x2_lower, x2_upper = find_range(X_train[Y_train==label,f2])\n",
    "    plt.xlim(x1_lower, x1_upper) # limit along x1-axis\n",
    "    plt.ylim(x2_lower, x2_upper) # limit along x2-axis\n",
    "    \n",
    "    # Plot the training points along the two selected features\n",
    "    plt.plot(X_train[Y_train==label, f1], X_train[Y_train==label, f2], 'ro')\n",
    "\n",
    "    # Define a grid along each axis; the density will be computed at each grid point\n",
    "    res = 200 # resolution\n",
    "    x1g = np.linspace(x1_lower, x1_upper, res)\n",
    "    x2g = np.linspace(x2_lower, x2_upper, res)\n",
    "\n",
    "    # Now plot a few contour lines of the density\n",
    "    mu, cov = fit_gaussian(X_train[Y_train==label,:], [f1,f2])\n",
    "    plot_contours(mu, cov, x1g, x2g, 'k')\n",
    "    \n",
    "    # Finally, display\n",
    "    plt.xlabel(\"Diff at 20MHz (uV)\")\n",
    "    plt.ylabel(\"Diff at 27MHz (uV)\")\n",
    "    plt.title('Class ' + labels[2], fontsize=14, color='blue')\n",
    "    plt.show()\n",
    "\n",
    "two_features_plot(0,1,2)"
   ]
  },
  {
   "cell_type": "markdown",
   "metadata": {},
   "source": [
    "## Fit Guassian for each class\n",
    "We now define a function that will fit a Gaussian generative model to the three classes, restricted to a given list of features. The function returns:\n",
    "* `mu`: the means of the Gaussians, one per row\n",
    "* `covar`: covariance matrices of each of the Gaussians\n",
    "* `pi`: list of three class weights summing to 1"
   ]
  },
  {
   "cell_type": "code",
   "execution_count": 12,
   "metadata": {},
   "outputs": [],
   "source": [
    "# Assumes y takes on values 1,2,3\n",
    "def fit_guassian_all(x, y, features, n):\n",
    "    \n",
    "    mu = np.zeros((n,2)) # list of means\n",
    "    covar = np.zeros((n,2,2)) # list of covariance matrices\n",
    "    pi = np.zeros(n) # list of class weights\n",
    "    \n",
    "    for label in range(n):\n",
    "        mu[label,:], covar[label,:,:] = fit_gaussian(x[(y==label),:], features)\n",
    "        pi[label] = float(sum(y==label))/float(len(y))\n",
    "    \n",
    "    return mu, covar, pi"
   ]
  },
  {
   "cell_type": "code",
   "execution_count": 13,
   "metadata": {},
   "outputs": [
    {
     "data": {
      "image/png": "[encoded data removed]",
      "text/plain": [
       "<Figure size 432x288 with 1 Axes>"
      ]
     },
     "metadata": {},
     "output_type": "display_data"
    }
   ],
   "source": [
    "def four_classes_plot(f1,f2):\n",
    "    if f1 == f2: # we need f1 != f2\n",
    "        print(\"Please choose different features for f1 and f2.\")\n",
    "        return  \n",
    "    \n",
    "    # Set up plot\n",
    "    x1_lower, x1_upper = find_range(X_train[:,f1])\n",
    "    x2_lower, x2_upper = find_range(X_train[:,f2])\n",
    "    plt.xlim(x1_lower, x1_upper) # limit along x1-axis\n",
    "    plt.ylim(x2_lower, x2_upper) # limit along x2-axis\n",
    "    \n",
    "    # Plot the training points along the two selected features\n",
    "    colors = ['r', 'k', 'g', 'b']\n",
    "    for label in range(4):\n",
    "        plt.plot(X_train[Y_train==label,f1], X_train[Y_train==label,f2], marker='o', ls='None', c=colors[label-1])\n",
    "\n",
    "    # Define a grid along each axis; the density will be computed at each grid point\n",
    "    res = 200 # resolution\n",
    "    x1g = np.linspace(x1_lower, x1_upper, res)\n",
    "    x2g = np.linspace(x2_lower, x2_upper, res)\n",
    "\n",
    "    # Show the Gaussian fit to each class, using features f1,f2\n",
    "    mu, covar, pi = fit_guassian_all(X_train, Y_train, [f1,f2], 4)\n",
    "    for label in range(4):\n",
    "        gmean = mu[label,:]\n",
    "        gcov = covar[label,:,:]\n",
    "        plot_contours(gmean, gcov, x1g, x2g, colors[label-1])\n",
    "\n",
    "    # Finally, display\n",
    "    plt.xlabel(\"Diff at 20MHz (uV)\")\n",
    "    plt.ylabel(\"Diff at 27MHz (uV)\")\n",
    "    plt.title(\"6um Bead Differentiation in Out-in Electrode\")\n",
    "    plt.show()\n",
    "    \n",
    "    \n",
    "    #####################################\n",
    "    #######Plot decision boundary########\n",
    "    #####################################\n",
    "    \n",
    "#     # Plot the training points along the two selected features\n",
    "#     colors = ['r', 'k', 'g', 'b']\n",
    "#     for label in range(4):\n",
    "#         plt.plot(X_train[Y_train==label,f1], X_train[Y_train==label,f2], marker='o', ls='None', c=colors[label-1])\n",
    "        \n",
    "#     rv = {label: multivariate_normal(mean=gmean, cov=gcov) for label in range(4)}    \n",
    "#     Z = np.zeros((len(x1g), len(x2g)))\n",
    "#     for i in range(0,len(x1g)):\n",
    "#         for j in range(0,len(x2g)):\n",
    "#             scores = []\n",
    "#             for label in range(4):\n",
    "#                 scores.append(np.log(pi[label]) + rv[label].logpdf([x1g[i],x2g[j]]))\n",
    "#             Z[i,j] = np.argmax(scores)\n",
    "\n",
    "#     # Plot the contour lines\n",
    "#     plt.contour(x1g,x2g,Z.T,4,cmap='seismic')\n",
    "#     plt.xlabel(\"Diff at 20MHz (uV)\")\n",
    "#     plt.ylabel(\"Diff at 27MHz (uV)\")\n",
    "#     plt.title(\"6um Bead Differentiation in Out-in Electrode\")\n",
    "#     plt.show()\n",
    "    \n",
    "\n",
    "four_classes_plot(0,1)"
   ]
  },
  {
   "cell_type": "markdown",
   "metadata": {},
   "source": [
    "## Predict labels for the test points\n",
    "We will now predict the test points label based on our naive-bayes model with guassian distribution."
   ]
  },
  {
   "cell_type": "code",
   "execution_count": 14,
   "metadata": {},
   "outputs": [],
   "source": [
    "def test_model(f1, f2):\n",
    "    if f1 == f2: # need f1 != f2\n",
    "        print(\"Please choose different features for f1 and f2.\")\n",
    "        return\n",
    "    mu, covar, pi = fit_guassian_all(X_train, Y_train, [f1,f2], 4)\n",
    "    \n",
    "    n = 4 # Labels 1,2,...,n\n",
    "    nt = len(X_test) # Number of test points\n",
    "    score = np.zeros((nt,n))\n",
    "    for i in range(nt):\n",
    "        for label in range(n):\n",
    "            score[i,label] = np.log(pi[label]) + \\\n",
    "            multivariate_normal.logpdf(X_test[i,[f1,f2]], mean=mu[label,:], cov=covar[label,:,:])\n",
    "    predictions = np.argmax(score, axis=1)\n",
    "    \n",
    "    # Finally, tally up score\n",
    "    # Now test the performance of a predictor based on a subset of features\n",
    "    errors = np.sum(predictions != Y_test)  \n",
    "    print(\"Errors: \" + str(errors) + \"/\" + str(nt))\n",
    "    print(\"Test Accuracy: \", 1-errors/nt)\n",
    "    \n",
    "    return predictions"
   ]
  },
  {
   "cell_type": "code",
   "execution_count": 15,
   "metadata": {},
   "outputs": [
    {
     "name": "stdout",
     "output_type": "stream",
     "text": [
      "Errors: 6/50\n",
      "Test Accuracy:  0.88\n",
      "Crosses are where the model has predicted wrong.\n"
     ]
    },
    {
     "data": {
      "image/png": "[encoded data removed]",
      "text/plain": [
       "<Figure size 432x288 with 1 Axes>"
      ]
     },
     "metadata": {},
     "output_type": "display_data"
    }
   ],
   "source": [
    "predictions = test_model(0,1)\n",
    "print(\"Crosses are where the model has predicted wrong.\")\n",
    "colors = ['r', 'k', 'g', 'b']\n",
    "for label in range(4):\n",
    "    plt.plot(X_test[Y_test==label,0], X_test[Y_test==label,1], marker = 'o', ls='None', c=colors[label-1])\n",
    "    plt.plot(X_test[predictions!=Y_test,0], X_test[predictions!=Y_test,1], marker = 'x', markersize=22, ls='None')\n",
    "\n",
    "plt.xlabel(\"Diff at 20MHz (uV)\")\n",
    "plt.ylabel(\"Diff at 27MHz (uV)\")\n",
    "plt.title(\"6um Bead Differentiation in Out-in Electrode\")\n",
    "plt.show()"
   ]
  },
  {
   "cell_type": "code",
   "execution_count": null,
   "metadata": {},
   "outputs": [],
   "source": []
  }
 ],
 "metadata": {
  "kernelspec": {
   "display_name": "Python 3",
   "language": "python",
   "name": "python3"
  },
  "language_info": {
   "codemirror_mode": {
    "name": "ipython",
    "version": 3
   },
   "file_extension": ".py",
   "mimetype": "text/x-python",
   "name": "python",
   "nbconvert_exporter": "python",
   "pygments_lexer": "ipython3",
   "version": "3.6.5"
  }
 },
 "nbformat": 4,
 "nbformat_minor": 2
}
